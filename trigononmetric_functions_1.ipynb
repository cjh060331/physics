{
  "nbformat": 4,
  "nbformat_minor": 0,
  "metadata": {
    "colab": {
      "provenance": [],
      "authorship_tag": "ABX9TyNqTzr+uxRCsjyBTehFdGng",
      "include_colab_link": true
    },
    "kernelspec": {
      "name": "python3",
      "display_name": "Python 3"
    },
    "language_info": {
      "name": "python"
    }
  },
  "cells": [
    {
      "cell_type": "markdown",
      "metadata": {
        "id": "view-in-github",
        "colab_type": "text"
      },
      "source": [
        "<a href=\"https://colab.research.google.com/github/cjh060331/physics/blob/20250312/trigononmetric_functions_1.ipynb\" target=\"_parent\"><img src=\"https://colab.research.google.com/assets/colab-badge.svg\" alt=\"Open In Colab\"/></a>"
      ]
    },
    {
      "cell_type": "code",
      "execution_count": 8,
      "metadata": {
        "id": "qPcQ2iUeIYPJ"
      },
      "outputs": [],
      "source": [
        "import math # 수학 함수를 사용하기 위해서 라이브러리 추가"
      ]
    },
    {
      "cell_type": "markdown",
      "source": [
        "호도법\n",
        "\n",
        "아래 링크 참조하세요\n",
        "\n"
      ],
      "metadata": {
        "id": "Jp6zd2pVJByd"
      }
    },
    {
      "cell_type": "code",
      "source": [
        "angle_degree = 30\n",
        "\n",
        "angle_radian = angle_degree * math.pi / 180\n",
        "\n",
        "print(\"angle_radian : \",angle_radian)"
      ],
      "metadata": {
        "colab": {
          "base_uri": "https://localhost:8080/"
        },
        "id": "PmKe5-cMI_De",
        "outputId": "b944a482-3464-4353-8692-f83a43fa2535"
      },
      "execution_count": 9,
      "outputs": [
        {
          "output_type": "stream",
          "name": "stdout",
          "text": [
            "angle_radian :  0.5235987755982988\n"
          ]
        }
      ]
    },
    {
      "cell_type": "code",
      "source": [
        "math.cos(angle_radian)"
      ],
      "metadata": {
        "colab": {
          "base_uri": "https://localhost:8080/"
        },
        "id": "BlQ0rZTzJ8gq",
        "outputId": "87d5359c-6e99-4764-9dc0-968b75a49373"
      },
      "execution_count": 10,
      "outputs": [
        {
          "output_type": "execute_result",
          "data": {
            "text/plain": [
              "0.8660254037844387"
            ]
          },
          "metadata": {},
          "execution_count": 10
        }
      ]
    },
    {
      "cell_type": "code",
      "source": [
        "math.sin(angle_radian)"
      ],
      "metadata": {
        "colab": {
          "base_uri": "https://localhost:8080/"
        },
        "id": "X1izRo_tKDBx",
        "outputId": "5ad99d70-f6f7-4975-a034-8cdc9c7faa73"
      },
      "execution_count": 11,
      "outputs": [
        {
          "output_type": "execute_result",
          "data": {
            "text/plain": [
              "0.49999999999999994"
            ]
          },
          "metadata": {},
          "execution_count": 11
        }
      ]
    },
    {
      "cell_type": "code",
      "source": [
        "math.tan(angle_radian)"
      ],
      "metadata": {
        "colab": {
          "base_uri": "https://localhost:8080/"
        },
        "id": "7puPdJcuKGjg",
        "outputId": "5e2c50b3-df5d-45bd-c9e0-d29b1172eed2"
      },
      "execution_count": 12,
      "outputs": [
        {
          "output_type": "execute_result",
          "data": {
            "text/plain": [
              "0.5773502691896257"
            ]
          },
          "metadata": {},
          "execution_count": 12
        }
      ]
    },
    {
      "cell_type": "markdown",
      "source": [
        "직교 좌표를 극좌표로 변환"
      ],
      "metadata": {
        "id": "SjhmGjRmKMgh"
      }
    },
    {
      "cell_type": "code",
      "source": [
        "x,y = 1.0, 2.0"
      ],
      "metadata": {
        "id": "sp4meEa5KO9x"
      },
      "execution_count": 13,
      "outputs": []
    },
    {
      "cell_type": "code",
      "source": [
        "r = math.sqrt(x**2 + y**2)\n",
        "theta_radian  = math.atan2(y,x)\n",
        "\n",
        "print(r,theta_radian)"
      ],
      "metadata": {
        "colab": {
          "base_uri": "https://localhost:8080/"
        },
        "id": "qdao4HHPKTW6",
        "outputId": "71503863-eb2a-4db5-e801-2c3a2d606510"
      },
      "execution_count": 14,
      "outputs": [
        {
          "output_type": "stream",
          "name": "stdout",
          "text": [
            "2.23606797749979 1.1071487177940904\n"
          ]
        }
      ]
    },
    {
      "cell_type": "markdown",
      "source": [
        "극좌표를 직교 좌표로 변환"
      ],
      "metadata": {
        "id": "UVj87kfwKimW"
      }
    },
    {
      "cell_type": "code",
      "source": [
        "r,angle = 10,30"
      ],
      "metadata": {
        "id": "B0qw0SiKKnFV"
      },
      "execution_count": null,
      "outputs": []
    },
    {
      "cell_type": "code",
      "source": [
        "x = r * math.cos(angle_radian)\n",
        "y = r * math.sin(angle_radian)\n",
        "\n",
        "print(x,y)"
      ],
      "metadata": {
        "id": "uex-ftRCKty5",
        "colab": {
          "base_uri": "https://localhost:8080/"
        },
        "outputId": "749a9fcd-25d4-44bb-ea2b-8b9ab14f1a62"
      },
      "execution_count": 16,
      "outputs": [
        {
          "output_type": "stream",
          "name": "stdout",
          "text": [
            "1.9364916731037087 1.1180339887498947\n"
          ]
        }
      ]
    }
  ]
}