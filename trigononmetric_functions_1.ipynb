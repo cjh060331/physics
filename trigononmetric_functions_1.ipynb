{
  "nbformat": 4,
  "nbformat_minor": 0,
  "metadata": {
    "colab": {
      "provenance": [],
      "authorship_tag": "ABX9TyMKyy6FFaGkDFZXXMRGrxmK",
      "include_colab_link": true
    },
    "kernelspec": {
      "name": "python3",
      "display_name": "Python 3"
    },
    "language_info": {
      "name": "python"
    }
  },
  "cells": [
    {
      "cell_type": "markdown",
      "metadata": {
        "id": "view-in-github",
        "colab_type": "text"
      },
      "source": [
        "<a href=\"https://colab.research.google.com/github/cjh060331/physics/blob/20250312/trigononmetric_functions_1.ipynb\" target=\"_parent\"><img src=\"https://colab.research.google.com/assets/colab-badge.svg\" alt=\"Open In Colab\"/></a>"
      ]
    },
    {
      "cell_type": "code",
      "execution_count": 1,
      "metadata": {
        "id": "qPcQ2iUeIYPJ"
      },
      "outputs": [],
      "source": [
        "import math # 수학 함수를 사용하기 위해서 라이브러리 추가"
      ]
    },
    {
      "cell_type": "markdown",
      "source": [
        "호도법\n",
        "\n",
        "아래 링크 참조하세요\n",
        "\n"
      ],
      "metadata": {
        "id": "Jp6zd2pVJByd"
      }
    },
    {
      "cell_type": "code",
      "source": [
        "angle_degree = 30\n",
        "\n",
        "angle_radian = angle_degree * math.pi / 180\n",
        "\n",
        "print(\"angle_radian : \",angle_radian)"
      ],
      "metadata": {
        "colab": {
          "base_uri": "https://localhost:8080/"
        },
        "id": "PmKe5-cMI_De",
        "outputId": "b46d2834-3a89-4671-a91a-b7a1902e68bf"
      },
      "execution_count": 6,
      "outputs": [
        {
          "output_type": "stream",
          "name": "stdout",
          "text": [
            "angle_radian :  0.5235987755982988\n"
          ]
        }
      ]
    },
    {
      "cell_type": "code",
      "source": [
        "math.cos(angle_radian)"
      ],
      "metadata": {
        "colab": {
          "base_uri": "https://localhost:8080/"
        },
        "id": "BlQ0rZTzJ8gq",
        "outputId": "da28a14a-61f4-4a36-f0ec-ea55e9151458"
      },
      "execution_count": 7,
      "outputs": [
        {
          "output_type": "execute_result",
          "data": {
            "text/plain": [
              "0.8660254037844387"
            ]
          },
          "metadata": {},
          "execution_count": 7
        }
      ]
    },
    {
      "cell_type": "code",
      "source": [
        "math.sin(angle_radian)"
      ],
      "metadata": {
        "colab": {
          "base_uri": "https://localhost:8080/"
        },
        "id": "X1izRo_tKDBx",
        "outputId": "ed41ea79-6e5b-4148-96c2-e0213a0ba101"
      },
      "execution_count": 8,
      "outputs": [
        {
          "output_type": "execute_result",
          "data": {
            "text/plain": [
              "0.49999999999999994"
            ]
          },
          "metadata": {},
          "execution_count": 8
        }
      ]
    },
    {
      "cell_type": "code",
      "source": [
        "math.tan(angle_radian)"
      ],
      "metadata": {
        "colab": {
          "base_uri": "https://localhost:8080/"
        },
        "id": "7puPdJcuKGjg",
        "outputId": "9176856d-61be-4001-873c-436b30bb456c"
      },
      "execution_count": 9,
      "outputs": [
        {
          "output_type": "execute_result",
          "data": {
            "text/plain": [
              "0.5773502691896257"
            ]
          },
          "metadata": {},
          "execution_count": 9
        }
      ]
    },
    {
      "cell_type": "markdown",
      "source": [
        "직교 좌표를 극좌표로 변환"
      ],
      "metadata": {
        "id": "SjhmGjRmKMgh"
      }
    },
    {
      "cell_type": "code",
      "source": [
        "x,y = 1.0, 2.0"
      ],
      "metadata": {
        "id": "sp4meEa5KO9x"
      },
      "execution_count": 10,
      "outputs": []
    },
    {
      "cell_type": "code",
      "source": [
        "r = math.sqrt(x**2 + y**2)\n",
        "theta_radian  = math.atan2(y,x)\n",
        "\n",
        "print(r,theta_radian)"
      ],
      "metadata": {
        "colab": {
          "base_uri": "https://localhost:8080/"
        },
        "id": "qdao4HHPKTW6",
        "outputId": "5e37a24c-7466-41ee-b2f9-8a1acbf996d9"
      },
      "execution_count": 14,
      "outputs": [
        {
          "output_type": "stream",
          "name": "stdout",
          "text": [
            "2.23606797749979 1.1071487177940904\n"
          ]
        }
      ]
    },
    {
      "cell_type": "markdown",
      "source": [
        "극좌표를 직교 좌표로 변환"
      ],
      "metadata": {
        "id": "UVj87kfwKimW"
      }
    },
    {
      "cell_type": "code",
      "source": [
        "r,angle = 10,30"
      ],
      "metadata": {
        "id": "B0qw0SiKKnFV"
      },
      "execution_count": 17,
      "outputs": []
    },
    {
      "cell_type": "code",
      "source": [
        "# 아래에 [9]번 셀을 참조해서 극좌표 변환을 완성하세요"
      ],
      "metadata": {
        "id": "uex-ftRCKty5"
      },
      "execution_count": 18,
      "outputs": []
    }
  ]
}